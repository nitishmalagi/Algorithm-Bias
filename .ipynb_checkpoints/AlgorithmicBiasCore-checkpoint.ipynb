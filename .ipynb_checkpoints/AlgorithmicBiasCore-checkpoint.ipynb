{
 "cells": [
  {
   "cell_type": "markdown",
   "metadata": {},
   "source": [
    "# Algorithmic Bias - Core Code\n",
    "Some code to get started on the Algorithmic Bias assignment. "
   ]
  },
  {
   "cell_type": "code",
   "execution_count": 1,
   "metadata": {},
   "outputs": [
    {
     "data": {
      "text/html": [
       "<div>\n",
       "<style scoped>\n",
       "    .dataframe tbody tr th:only-of-type {\n",
       "        vertical-align: middle;\n",
       "    }\n",
       "\n",
       "    .dataframe tbody tr th {\n",
       "        vertical-align: top;\n",
       "    }\n",
       "\n",
       "    .dataframe thead th {\n",
       "        text-align: right;\n",
       "    }\n",
       "</style>\n",
       "<table border=\"1\" class=\"dataframe\">\n",
       "  <thead>\n",
       "    <tr style=\"text-align: right;\">\n",
       "      <th></th>\n",
       "      <th>mean radius</th>\n",
       "      <th>mean texture</th>\n",
       "      <th>mean perimeter</th>\n",
       "      <th>mean area</th>\n",
       "      <th>mean smoothness</th>\n",
       "      <th>mean compactness</th>\n",
       "      <th>mean concavity</th>\n",
       "      <th>mean concave points</th>\n",
       "      <th>mean symmetry</th>\n",
       "      <th>mean fractal dimension</th>\n",
       "      <th>...</th>\n",
       "      <th>worst texture</th>\n",
       "      <th>worst perimeter</th>\n",
       "      <th>worst area</th>\n",
       "      <th>worst smoothness</th>\n",
       "      <th>worst compactness</th>\n",
       "      <th>worst concavity</th>\n",
       "      <th>worst concave points</th>\n",
       "      <th>worst symmetry</th>\n",
       "      <th>worst fractal dimension</th>\n",
       "      <th>target</th>\n",
       "    </tr>\n",
       "  </thead>\n",
       "  <tbody>\n",
       "    <tr>\n",
       "      <td>0</td>\n",
       "      <td>17.99</td>\n",
       "      <td>10.38</td>\n",
       "      <td>122.80</td>\n",
       "      <td>1001.0</td>\n",
       "      <td>0.1184</td>\n",
       "      <td>0.2776</td>\n",
       "      <td>0.3001</td>\n",
       "      <td>0.14710</td>\n",
       "      <td>0.2419</td>\n",
       "      <td>0.07871</td>\n",
       "      <td>...</td>\n",
       "      <td>17.33</td>\n",
       "      <td>184.6</td>\n",
       "      <td>2019.0</td>\n",
       "      <td>0.1622</td>\n",
       "      <td>0.6656</td>\n",
       "      <td>0.7119</td>\n",
       "      <td>0.2654</td>\n",
       "      <td>0.4601</td>\n",
       "      <td>0.11890</td>\n",
       "      <td>0</td>\n",
       "    </tr>\n",
       "    <tr>\n",
       "      <td>1</td>\n",
       "      <td>14.22</td>\n",
       "      <td>23.12</td>\n",
       "      <td>94.37</td>\n",
       "      <td>609.9</td>\n",
       "      <td>0.1075</td>\n",
       "      <td>0.2413</td>\n",
       "      <td>0.1981</td>\n",
       "      <td>0.06618</td>\n",
       "      <td>0.2384</td>\n",
       "      <td>0.07542</td>\n",
       "      <td>...</td>\n",
       "      <td>37.18</td>\n",
       "      <td>106.4</td>\n",
       "      <td>762.4</td>\n",
       "      <td>0.1533</td>\n",
       "      <td>0.9327</td>\n",
       "      <td>0.8488</td>\n",
       "      <td>0.1772</td>\n",
       "      <td>0.5166</td>\n",
       "      <td>0.14460</td>\n",
       "      <td>0</td>\n",
       "    </tr>\n",
       "    <tr>\n",
       "      <td>2</td>\n",
       "      <td>12.34</td>\n",
       "      <td>26.86</td>\n",
       "      <td>81.15</td>\n",
       "      <td>477.4</td>\n",
       "      <td>0.1034</td>\n",
       "      <td>0.1353</td>\n",
       "      <td>0.1085</td>\n",
       "      <td>0.04562</td>\n",
       "      <td>0.1943</td>\n",
       "      <td>0.06937</td>\n",
       "      <td>...</td>\n",
       "      <td>39.34</td>\n",
       "      <td>101.7</td>\n",
       "      <td>768.9</td>\n",
       "      <td>0.1785</td>\n",
       "      <td>0.4706</td>\n",
       "      <td>0.4425</td>\n",
       "      <td>0.1459</td>\n",
       "      <td>0.3215</td>\n",
       "      <td>0.12050</td>\n",
       "      <td>0</td>\n",
       "    </tr>\n",
       "    <tr>\n",
       "      <td>3</td>\n",
       "      <td>14.86</td>\n",
       "      <td>23.21</td>\n",
       "      <td>100.40</td>\n",
       "      <td>671.4</td>\n",
       "      <td>0.1044</td>\n",
       "      <td>0.1980</td>\n",
       "      <td>0.1697</td>\n",
       "      <td>0.08878</td>\n",
       "      <td>0.1737</td>\n",
       "      <td>0.06672</td>\n",
       "      <td>...</td>\n",
       "      <td>27.78</td>\n",
       "      <td>118.6</td>\n",
       "      <td>784.7</td>\n",
       "      <td>0.1316</td>\n",
       "      <td>0.4648</td>\n",
       "      <td>0.4589</td>\n",
       "      <td>0.1727</td>\n",
       "      <td>0.3000</td>\n",
       "      <td>0.08701</td>\n",
       "      <td>0</td>\n",
       "    </tr>\n",
       "    <tr>\n",
       "      <td>4</td>\n",
       "      <td>13.77</td>\n",
       "      <td>22.29</td>\n",
       "      <td>90.63</td>\n",
       "      <td>588.9</td>\n",
       "      <td>0.1200</td>\n",
       "      <td>0.1267</td>\n",
       "      <td>0.1385</td>\n",
       "      <td>0.06526</td>\n",
       "      <td>0.1834</td>\n",
       "      <td>0.06877</td>\n",
       "      <td>...</td>\n",
       "      <td>34.01</td>\n",
       "      <td>111.6</td>\n",
       "      <td>806.9</td>\n",
       "      <td>0.1737</td>\n",
       "      <td>0.3122</td>\n",
       "      <td>0.3809</td>\n",
       "      <td>0.1673</td>\n",
       "      <td>0.3080</td>\n",
       "      <td>0.09333</td>\n",
       "      <td>0</td>\n",
       "    </tr>\n",
       "  </tbody>\n",
       "</table>\n",
       "<p>5 rows × 31 columns</p>\n",
       "</div>"
      ],
      "text/plain": [
       "   mean radius  mean texture  mean perimeter  mean area  mean smoothness  \\\n",
       "0        17.99         10.38          122.80     1001.0           0.1184   \n",
       "1        14.22         23.12           94.37      609.9           0.1075   \n",
       "2        12.34         26.86           81.15      477.4           0.1034   \n",
       "3        14.86         23.21          100.40      671.4           0.1044   \n",
       "4        13.77         22.29           90.63      588.9           0.1200   \n",
       "\n",
       "   mean compactness  mean concavity  mean concave points  mean symmetry  \\\n",
       "0            0.2776          0.3001              0.14710         0.2419   \n",
       "1            0.2413          0.1981              0.06618         0.2384   \n",
       "2            0.1353          0.1085              0.04562         0.1943   \n",
       "3            0.1980          0.1697              0.08878         0.1737   \n",
       "4            0.1267          0.1385              0.06526         0.1834   \n",
       "\n",
       "   mean fractal dimension  ...  worst texture  worst perimeter  worst area  \\\n",
       "0                 0.07871  ...          17.33            184.6      2019.0   \n",
       "1                 0.07542  ...          37.18            106.4       762.4   \n",
       "2                 0.06937  ...          39.34            101.7       768.9   \n",
       "3                 0.06672  ...          27.78            118.6       784.7   \n",
       "4                 0.06877  ...          34.01            111.6       806.9   \n",
       "\n",
       "   worst smoothness  worst compactness  worst concavity  worst concave points  \\\n",
       "0            0.1622             0.6656           0.7119                0.2654   \n",
       "1            0.1533             0.9327           0.8488                0.1772   \n",
       "2            0.1785             0.4706           0.4425                0.1459   \n",
       "3            0.1316             0.4648           0.4589                0.1727   \n",
       "4            0.1737             0.3122           0.3809                0.1673   \n",
       "\n",
       "   worst symmetry  worst fractal dimension  target  \n",
       "0          0.4601                  0.11890       0  \n",
       "1          0.5166                  0.14460       0  \n",
       "2          0.3215                  0.12050       0  \n",
       "3          0.3000                  0.08701       0  \n",
       "4          0.3080                  0.09333       0  \n",
       "\n",
       "[5 rows x 31 columns]"
      ]
     },
     "execution_count": 1,
     "metadata": {},
     "output_type": "execute_result"
    }
   ],
   "source": [
    "import numpy as np\n",
    "import pandas as pd\n",
    "\n",
    "from sklearn import datasets\n",
    "from sklearn.model_selection import train_test_split\n",
    "from sklearn.metrics import confusion_matrix, accuracy_score\n",
    "bcDB = datasets.load_breast_cancer()\n",
    "bcDF = pd.DataFrame(bcDB.data, columns= list(bcDB['feature_names']))\n",
    "bcDF['target'] = pd.Series(bcDB.target)\n",
    "bcDF = bcDF.sort_values(by = ['target'])\n",
    "bcDF = bcDF.reset_index(drop=True)\n",
    "bcDF.head(5)"
   ]
  },
  {
   "cell_type": "code",
   "execution_count": 2,
   "metadata": {},
   "outputs": [
    {
     "name": "stdout",
     "output_type": "stream",
     "text": [
      "212 malignant\n",
      "357 benign\n"
     ]
    }
   ],
   "source": [
    "vc = bcDF['target'].value_counts()\n",
    "for i,j in enumerate(bcDB.target_names):\n",
    "    print (vc[i],j)"
   ]
  },
  {
   "cell_type": "code",
   "execution_count": 3,
   "metadata": {
    "scrolled": true
   },
   "outputs": [
    {
     "data": {
      "text/plain": [
       "((569, 30), (569,))"
      ]
     },
     "execution_count": 3,
     "metadata": {},
     "output_type": "execute_result"
    }
   ],
   "source": [
    "y = bcDF.pop('target').values\n",
    "X = bcDF.values\n",
    "X.shape, y.shape"
   ]
  },
  {
   "cell_type": "markdown",
   "metadata": {},
   "source": [
    "### Code to plot matrix"
   ]
  },
  {
   "cell_type": "code",
   "execution_count": 4,
   "metadata": {},
   "outputs": [],
   "source": [
    "import matplotlib.pyplot as plt\n",
    "from sklearn.utils.multiclass import unique_labels\n",
    "%matplotlib inline\n",
    "\n",
    "def plot_confusion_matrix(y_true, y_pred, classes,\n",
    "                          normalize=False,\n",
    "                          title=None,\n",
    "                          cmap=plt.cm.Blues):\n",
    "    \"\"\"\n",
    "    This function prints and plots the confusion matrix.\n",
    "    Normalization can be applied by setting `normalize=True`.\n",
    "    \"\"\"\n",
    "    if not title:\n",
    "        if normalize:\n",
    "            title = 'Normalized confusion matrix'\n",
    "        else:\n",
    "            title = 'Confusion matrix, without normalization'\n",
    "\n",
    "    # Compute confusion matrix\n",
    "    cm = confusion_matrix(y_true, y_pred)\n",
    "    # Only use the labels that appear in the data\n",
    "    #classes = classes[unique_labels(y_true, y_pred)]\n",
    "    if normalize:\n",
    "        cm = cm.astype('float') / cm.sum(axis=1)[:, np.newaxis]\n",
    "        print(\"Normalized confusion matrix\")\n",
    "    else:\n",
    "        print('Confusion matrix, without normalization')\n",
    "\n",
    "    print(cm)\n",
    "\n",
    "    fig, ax = plt.subplots()\n",
    "    im = ax.imshow(cm, interpolation='nearest', cmap=cmap)\n",
    "    ax.figure.colorbar(im, ax=ax)\n",
    "    # We want to show all ticks...\n",
    "    ax.set(xticks=np.arange(cm.shape[1]),\n",
    "           yticks=np.arange(cm.shape[0]),\n",
    "           # ... and label them with the respective list entries\n",
    "           xticklabels=classes, yticklabels=classes,\n",
    "           title=title,\n",
    "           ylabel='True label',\n",
    "           xlabel='Predicted label')\n",
    "\n",
    "    # Rotate the tick labels and set their alignment.\n",
    "    plt.setp(ax.get_xticklabels(), rotation=45, ha=\"right\",\n",
    "             rotation_mode=\"anchor\")\n",
    "\n",
    "    # Loop over data dimensions and create text annotations.\n",
    "    fmt = '.2f' if normalize else 'd'\n",
    "    thresh = cm.max() / 2.\n",
    "    for i in range(cm.shape[0]):\n",
    "        for j in range(cm.shape[1]):\n",
    "            ax.text(j, i, format(cm[i, j], fmt),\n",
    "                    ha=\"center\", va=\"center\",\n",
    "                    color=\"white\" if cm[i, j] > thresh else \"black\")\n",
    "    fig.tight_layout()\n",
    "    return ax"
   ]
  },
  {
   "cell_type": "markdown",
   "metadata": {},
   "source": [
    "## $k$-NN\n",
    "#### Malignant is the minority class at ~40%.  \n",
    "#### $k$-NN classifier picks up this under-representation and accentuates it, predicting just 36% malignant. "
   ]
  },
  {
   "cell_type": "code",
   "execution_count": 5,
   "metadata": {},
   "outputs": [
    {
     "name": "stdout",
     "output_type": "stream",
     "text": [
      "Malignant in test set : 0.40\n",
      "Predicted malignant : 0.37\n",
      "Accuracy hold-out: 0.91\n",
      "Confusion matrix:\n",
      "[[39  7]\n",
      " [ 3 65]]\n",
      "Normalized confusion matrix\n",
      "[[0.84782609 0.15217391]\n",
      " [0.04411765 0.95588235]]\n"
     ]
    },
    {
     "data": {
      "text/plain": [
       "<matplotlib.axes._subplots.AxesSubplot at 0x121b39b70>"
      ]
     },
     "execution_count": 5,
     "metadata": {},
     "output_type": "execute_result"
    },
    {
     "data": {
      "image/png": "[encoded data removed]",
      "text/plain": [
       "<Figure size 432x288 with 2 Axes>"
      ]
     },
     "metadata": {
      "needs_background": "light"
     },
     "output_type": "display_data"
    }
   ],
   "source": [
    "from sklearn.neighbors import KNeighborsClassifier\n",
    "from sklearn.model_selection import train_test_split\n",
    "from sklearn.model_selection import cross_val_score\n",
    "\n",
    "kNN = KNeighborsClassifier(n_neighbors=3)\n",
    "\n",
    "X_train, X_test, y_train, y_test = train_test_split(X, y, test_size = 0.2, random_state=2)\n",
    "y_pred_knn = kNN.fit(X_train, y_train).predict(X_test)\n",
    "\n",
    "print(\"Malignant in test set : %0.2f\" % (1- (y_test.sum()/len(y_test))))\n",
    "print(\"Predicted malignant : %0.2f\" % (1- (y_pred_knn.sum()/len(y_pred_knn))))\n",
    "\n",
    "#bias?\n",
    "\n",
    "acc = accuracy_score(y_test, y_pred_knn)\n",
    "print(\"Accuracy hold-out: {0:.2f}\".format(acc)) \n",
    "confusion = confusion_matrix(y_test, y_pred_knn)\n",
    "print(\"Confusion matrix:\\n{}\".format(confusion))\n",
    "\n",
    "\n",
    "# Plot normalized confusion matrix\n",
    "plot_confusion_matrix(y_test, y_pred_knn, classes=['Not Helpful','Helpful'], normalize=True,\n",
    "                      title='Normalized confusion matrix')\n"
   ]
  },
  {
   "cell_type": "markdown",
   "metadata": {},
   "source": [
    "## Decision Tree\n",
    "\n",
    "#### Decision Tree classifier picks up this under-representation of malignant but does a pretty good job of predicting 39% malignant. "
   ]
  },
  {
   "cell_type": "code",
   "execution_count": 6,
   "metadata": {},
   "outputs": [
    {
     "name": "stdout",
     "output_type": "stream",
     "text": [
      "Malignant in test set : 0.40\n",
      "Predicted malignant : 0.38\n",
      "Accuracy hold-out: 0.92\n",
      "Confusion matrix:\n",
      "[[40  6]\n",
      " [ 3 65]]\n",
      "Normalized confusion matrix\n",
      "[[0.86956522 0.13043478]\n",
      " [0.04411765 0.95588235]]\n"
     ]
    },
    {
     "data": {
      "text/plain": [
       "<matplotlib.axes._subplots.AxesSubplot at 0x10788a7b8>"
      ]
     },
     "execution_count": 6,
     "metadata": {},
     "output_type": "execute_result"
    },
    {
     "data": {
      "image/png": "[encoded data removed]",
      "text/plain": [
       "<Figure size 432x288 with 2 Axes>"
      ]
     },
     "metadata": {
      "needs_background": "light"
     },
     "output_type": "display_data"
    }
   ],
   "source": [
    "from graphviz import Source\n",
    "from sklearn.tree import DecisionTreeClassifier, export_graphviz\n",
    "\n",
    "ap_features = bcDF.columns\n",
    "\n",
    "tree = DecisionTreeClassifier(criterion='entropy')\n",
    "bc_tree = tree.fit(X_train, y_train)\n",
    "y_pred_tree = bc_tree.predict(X_test)\n",
    "\n",
    "print(\"Malignant in test set : %0.2f\" % (1- (y_test.sum()/len(y_test))))\n",
    "print(\"Predicted malignant : %0.2f\" % (1- (y_pred_tree.sum()/len(y_pred_tree))))\n",
    "\n",
    "acc = accuracy_score(y_test, y_pred_tree)\n",
    "print(\"Accuracy hold-out: {0:.2f}\".format(acc)) \n",
    "confusion = confusion_matrix(y_test, y_pred_tree)\n",
    "print(\"Confusion matrix:\\n{}\".format(confusion))\n",
    "\n",
    "\n",
    "# Plot normalized confusion matrix\n",
    "plot_confusion_matrix(y_test, y_pred_tree, classes=['Not Helpful','Helpful'], normalize=True,\n",
    "                      title='Normalized confusion matrix')"
   ]
  },
  {
   "cell_type": "markdown",
   "metadata": {},
   "source": [
    "## Logistic Regression\n",
    "\n",
    "#### Logistic Regression classifier picks up this under-representation of malignant but predicts just 36% malignant. "
   ]
  },
  {
   "cell_type": "code",
   "execution_count": 7,
   "metadata": {},
   "outputs": [
    {
     "name": "stdout",
     "output_type": "stream",
     "text": [
      "Malignant in test set : 0.40\n",
      "Predicted malignant : 0.36\n",
      "Accuracy hold-out: 0.94\n",
      "Confusion matrix:\n",
      "[[40  6]\n",
      " [ 1 67]]\n",
      "Normalized confusion matrix\n",
      "[[0.86956522 0.13043478]\n",
      " [0.01470588 0.98529412]]\n"
     ]
    },
    {
     "name": "stderr",
     "output_type": "stream",
     "text": [
      "/Users/dastan/anaconda3/lib/python3.7/site-packages/sklearn/linear_model/logistic.py:432: FutureWarning: Default solver will be changed to 'lbfgs' in 0.22. Specify a solver to silence this warning.\n",
      "  FutureWarning)\n"
     ]
    },
    {
     "data": {
      "text/plain": [
       "<matplotlib.axes._subplots.AxesSubplot at 0x123c5ff28>"
      ]
     },
     "execution_count": 7,
     "metadata": {},
     "output_type": "execute_result"
    },
    {
     "data": {
      "image/png": "[encoded data removed]",
      "text/plain": [
       "<Figure size 432x288 with 2 Axes>"
      ]
     },
     "metadata": {
      "needs_background": "light"
     },
     "output_type": "display_data"
    }
   ],
   "source": [
    "from sklearn.linear_model import LogisticRegression\n",
    "\n",
    "log_reg = LogisticRegression()\n",
    "log_reg.fit(X_train, y_train)\n",
    "\n",
    "y_pred_lr = log_reg.predict(X_test)\n",
    "\n",
    "print(\"Malignant in test set : %0.2f\" % (1- (y_test.sum()/len(y_test))))\n",
    "print(\"Predicted malignant : %0.2f\" % (1- (y_pred_lr.sum()/len(y_pred_lr))))\n",
    "\n",
    "acc = accuracy_score(y_test, y_pred_lr)\n",
    "print(\"Accuracy hold-out: {0:.2f}\".format(acc)) \n",
    "confusion = confusion_matrix(y_test, y_pred_lr)\n",
    "print(\"Confusion matrix:\\n{}\".format(confusion))\n",
    "\n",
    "# Plot normalized confusion matrix\n",
    "plot_confusion_matrix(y_test, y_pred_lr, classes=['Not Helpful','Helpful'], normalize=True,\n",
    "                      title='Normalized confusion matrix')"
   ]
  },
  {
   "cell_type": "markdown",
   "metadata": {},
   "source": [
    "## Naives Bayes\n",
    "\n",
    "#### Naives Bayes classifier picks up this under-representation of malignant and predicts just 37% malignant."
   ]
  },
  {
   "cell_type": "code",
   "execution_count": 8,
   "metadata": {},
   "outputs": [
    {
     "name": "stdout",
     "output_type": "stream",
     "text": [
      "Malignant in test set : 0.40\n",
      "Predicted malignant : 0.37\n",
      "Accuracy hold-out: 0.88\n",
      "Confusion matrix:\n",
      "[[37  9]\n",
      " [ 5 63]]\n",
      "Normalized confusion matrix\n",
      "[[0.80434783 0.19565217]\n",
      " [0.07352941 0.92647059]]\n"
     ]
    },
    {
     "data": {
      "text/plain": [
       "<matplotlib.axes._subplots.AxesSubplot at 0x123ee0c88>"
      ]
     },
     "execution_count": 8,
     "metadata": {},
     "output_type": "execute_result"
    },
    {
     "data": {
      "image/png": "[encoded data removed]",
      "text/plain": [
       "<Figure size 432x288 with 2 Axes>"
      ]
     },
     "metadata": {
      "needs_background": "light"
     },
     "output_type": "display_data"
    }
   ],
   "source": [
    "from sklearn.naive_bayes import GaussianNB\n",
    "gnb = GaussianNB()\n",
    "gnb.fit(X_train, y_train)\n",
    "\n",
    "y_pred_gnb = gnb.predict(X_test)\n",
    "\n",
    "print(\"Malignant in test set : %0.2f\" % (1- (y_test.sum()/len(y_test))))\n",
    "print(\"Predicted malignant : %0.2f\" % (1- (y_pred_gnb.sum()/len(y_pred_gnb))))\n",
    "\n",
    "acc = accuracy_score(y_test, y_pred_gnb)\n",
    "print(\"Accuracy hold-out: {0:.2f}\".format(acc)) \n",
    "confusion = confusion_matrix(y_test, y_pred_gnb)\n",
    "print(\"Confusion matrix:\\n{}\".format(confusion))\n",
    "\n",
    "# Plot normalized confusion matrix\n",
    "plot_confusion_matrix(y_test, y_pred_gnb, classes=['Not Helpful','Helpful'], normalize=True,\n",
    "                      title='Normalized confusion matrix')"
   ]
  },
  {
   "cell_type": "markdown",
   "metadata": {},
   "source": [
    "## Bias Check using Cross Validation"
   ]
  },
  {
   "cell_type": "code",
   "execution_count": 9,
   "metadata": {},
   "outputs": [
    {
     "name": "stdout",
     "output_type": "stream",
     "text": [
      "4 x CV KNeighborsClassifier   FP: 0.13  TP: 0.96\n",
      "4 x CV DecisionTreeClassifier FP: 0.10  TP: 0.95\n",
      "4 x CV LogisticRegression     FP: 0.08  TP: 0.97\n",
      "4 x CV GaussianNB             FP: 0.11  TP: 0.97\n"
     ]
    }
   ],
   "source": [
    "from sklearn.model_selection import cross_validate\n",
    "from sklearn.metrics import make_scorer\n",
    "\n",
    "def tp(y_true, y_pred): return confusion_matrix(y_true, y_pred)[1, 1]\n",
    "def tn(y_true, y_pred): return confusion_matrix(y_true, y_pred)[0, 0]\n",
    "def fp(y_true, y_pred): return confusion_matrix(y_true, y_pred)[0, 1]\n",
    "def fn(y_true, y_pred): return confusion_matrix(y_true, y_pred)[1, 0]\n",
    "scoring = {'tp' : make_scorer(tp), 'tn' : make_scorer(tn),\n",
    "           'fp' : make_scorer(fp), 'fn' : make_scorer(fn)}\n",
    "\n",
    "models = [kNN, bc_tree, log_reg, gnb]\n",
    "\n",
    "folds = 4\n",
    "v = 0 #  use 1 or 0\n",
    "\n",
    "for m in models:\n",
    "    cv_results = cross_validate(m, X, y, cv= folds,scoring=scoring, return_train_score=False, \n",
    "                                    verbose = v, n_jobs = -1)\n",
    "    fp_rate = cv_results['test_fp'].sum()/(cv_results['test_fp'].sum()+cv_results['test_tn'].sum())\n",
    "    tp_rate = cv_results['test_tp'].sum()/(cv_results['test_tp'].sum()+cv_results['test_fn'].sum())\n",
    "  \n",
    "    print(\"{} x CV {:22} FP: {:.2f}  TP: {:.2f}\".format(folds, type(m).__name__, fp_rate, tp_rate)) "
   ]
  },
  {
   "cell_type": "markdown",
   "metadata": {},
   "source": [
    "#### Cross Validation testing results are as follows:\n",
    "##### KNN : 0.96,  Decision Tree : 0.94,  Logistic Regression : 0.97,  GaussianNB : 0.97\n",
    "#### False positive denotes the bias of the model towards Benign from the above results we can see that GaussianNB and Logistic Regression have the highest True Positives at 97%. However, since Logistic Regression predicts the least False Positives, it is clearly a better model than the rest.\n",
    "\n"
   ]
  },
  {
   "cell_type": "markdown",
   "metadata": {},
   "source": [
    "# 2. Propose a strategy to rectify this bias. Evaluate the effect of this strategy in terms of classification bias and overall accuracy. You may choose to work with hold-out testing"
   ]
  },
  {
   "cell_type": "markdown",
   "metadata": {},
   "source": [
    "#### The bias can be varified in various methods. Here, I have used a couple of methods which are upsampling and downlsampling. "
   ]
  },
  {
   "cell_type": "code",
   "execution_count": 10,
   "metadata": {},
   "outputs": [
    {
     "name": "stdout",
     "output_type": "stream",
     "text": [
      "**** Upsampling ****\n",
      "Malignant in test set : 0.40\n",
      "Predicted malignant : 0.36\n",
      "Upsampling Accuracy hold-out: 0.92\n",
      "Upsampling Confusion matrix:\n",
      "[[39  7]\n",
      " [ 2 66]]\n",
      "**** Downsampling ****\n",
      "Malignant in test set : 0.40\n",
      "Predicted malignant : 0.36\n",
      "Downsampling Accuracy hold-out: 0.92\n",
      "Downsampling Confusion matrix:\n",
      "[[39  7]\n",
      " [ 2 66]]\n"
     ]
    }
   ],
   "source": [
    "import pandas as pd\n",
    "from sklearn.utils import resample\n",
    "from sklearn import datasets\n",
    "from sklearn.model_selection import train_test_split\n",
    "from sklearn.metrics import confusion_matrix, accuracy_score\n",
    "from sklearn.neighbors import KNeighborsClassifier\n",
    "from sklearn.model_selection import train_test_split\n",
    "from sklearn.model_selection import cross_val_score\n",
    "\n",
    "\n",
    "bcDB = datasets.load_breast_cancer()\n",
    "bcDF = pd.DataFrame(bcDB.data, columns= list(bcDB['feature_names']))\n",
    "bcDF['target'] = pd.Series(bcDB.target)\n",
    "bcDF = bcDF.sort_values(by = ['target'])\n",
    "bcDF = bcDF.reset_index(drop=True)\n",
    "y = bcDF.target\n",
    "X = bcDF.drop('target', axis=1)\n",
    "\n",
    "kNN = KNeighborsClassifier(n_neighbors=3)\n",
    "\n",
    "X_train, X_test, y_train, y_test = train_test_split(X, y, test_size=0.2, random_state=2)\n",
    "\n",
    "# concatenate our training data back together\n",
    "X = pd.concat([X_train, y_train], axis=1)\n",
    "\n",
    "# separate minority and majority classes\n",
    "mel = X[X.target==1]\n",
    "beg = X[X.target==0]\n",
    "\n",
    "\n",
    "print('**** Upsampling ****')\n",
    "\n",
    "# upsample minority\n",
    "beg_upsampled = resample(beg,\n",
    "                          replace=True, # sample with replacement\n",
    "                          n_samples=len(mel), # match number in majority class\n",
    "                          random_state=27) # reproducible results\n",
    "# combine majority and upsampled minority\n",
    "upsampled = pd.concat([mel, beg_upsampled])\n",
    "\n",
    "y_train = upsampled.target\n",
    "X_train = upsampled.drop('target', axis=1)\n",
    "\n",
    "y_pred_knn = kNN.fit(X_train, y_train).predict(X_test)\n",
    "\n",
    "print(\"Malignant in test set : %0.2f\" % (1- (y_test.sum()/len(y_test))))\n",
    "print(\"Predicted malignant : %0.2f\" % (1- (y_pred_knn.sum()/len(y_pred_knn))))\n",
    "\n",
    "acc = accuracy_score(y_test, y_pred_knn)\n",
    "print(\"Upsampling Accuracy hold-out: {:.2f}\".format(acc)) \n",
    "confusion = confusion_matrix(y_test, y_pred_knn)\n",
    "print(\"Upsampling Confusion matrix:\\n{}\".format(confusion))\n",
    "\n",
    "\n",
    "\n",
    "print('**** Downsampling ****')\n",
    "\n",
    "#downsample majority\n",
    "mel_downsampled = resample(mel,\n",
    "                          replace=True, # sample with replacement\n",
    "                          n_samples=len(beg), # match number in majority class\n",
    "                          random_state=27) # reproducible results\n",
    "# combine majority and upsampled minority\n",
    "downsampled = pd.concat([beg, mel_downsampled])\n",
    "\n",
    "y_train = downsampled.target\n",
    "X_train = downsampled.drop('target', axis=1)\n",
    "\n",
    "y_pred_knn = kNN.fit(X_train, y_train).predict(X_test)\n",
    "\n",
    "print(\"Malignant in test set : %0.2f\" % (1- (y_test.sum()/len(y_test))))\n",
    "print(\"Predicted malignant : %0.2f\" % (1- (y_pred_knn.sum()/len(y_pred_knn))))\n",
    "\n",
    "acc = accuracy_score(y_test, y_pred_knn)\n",
    "print(\"Downsampling Accuracy hold-out: {:.2f}\".format(acc)) \n",
    "confusion = confusion_matrix(y_test, y_pred_knn)\n",
    "print(\"Downsampling Confusion matrix:\\n{}\".format(confusion))\n"
   ]
  },
  {
   "cell_type": "markdown",
   "metadata": {},
   "source": [
    "#### In this scenario, after upsampling and downsampling we are getting similar results.The accuracy increases from 91% to 92%. However, there is there is a small increase in the True-Positive values. The bias is more towards the majortiy class when compared to that of the imbalanced dataset. In conclusion, there is no much profit from this type of method to balance the dataset as the results could vary depending on the data.\n",
    "\n",
    "\n"
   ]
  },
  {
   "cell_type": "markdown",
   "metadata": {},
   "source": [
    "# 3. Test the impact of this strategy on another dataset of your choice. Discuss the effectiveness of the strategy on this second dataset."
   ]
  },
  {
   "cell_type": "markdown",
   "metadata": {},
   "source": [
    "#### The dataset considered here is Wine dataset with two classes 0 and 1.\n",
    "\n",
    "#### In this imbalanced dataset, Class 0 has 43 observations and Class 1 has 61 observations."
   ]
  },
  {
   "cell_type": "code",
   "execution_count": 12,
   "metadata": {},
   "outputs": [
    {
     "name": "stdout",
     "output_type": "stream",
     "text": [
      "**** With imbalanced dataset ****\n",
      "Malignant in test set : 0.62\n",
      "Predicted malignant : 0.46\n",
      "Accuracy hold-out: 0.85\n",
      "Confusion matrix, without normalization\n",
      "[[12  4]\n",
      " [ 0 10]]\n"
     ]
    },
    {
     "data": {
      "image/png": "[encoded data removed]",
      "text/plain": [
       "<Figure size 432x288 with 2 Axes>"
      ]
     },
     "metadata": {
      "needs_background": "light"
     },
     "output_type": "display_data"
    }
   ],
   "source": [
    "import pandas as pd\n",
    "import numpy as np\n",
    "from sklearn.metrics import confusion_matrix, accuracy_score\n",
    "\n",
    "wineDF = pd.read_csv('wine.csv')\n",
    "wineDF = wineDF.reset_index(drop=True)\n",
    "wineDF.head()\n",
    "\n",
    "y = wineDF['class']\n",
    "X = wineDF.drop('class', axis=1)\n",
    "\n",
    "kNN = KNeighborsClassifier(n_neighbors=3)\n",
    "\n",
    "X_train, X_test, y_train, y_test = train_test_split(X, y, test_size=0.2, random_state=2)\n",
    "\n",
    "print(\"**** With imbalanced dataset ****\")\n",
    "\n",
    "y_pred_knn = kNN.fit(X_train, y_train).predict(X_test)\n",
    "\n",
    "print(\"Malignant in test set : %0.2f\" % (1- (y_test.sum()/len(y_test))))\n",
    "print(\"Predicted malignant : %0.2f\" % (1- (y_pred_knn.sum()/len(y_pred_knn))))\n",
    "\n",
    "acc = accuracy_score(y_test, y_pred_knn)\n",
    "print(\"Accuracy hold-out: {0:.2f}\".format(acc)) \n",
    "\n",
    "plot_confusion_matrix(y_test, y_pred_knn, classes=['Not Helpful','Helpful'],\n",
    "                      title='Confusion matrix, without normalization')\n",
    "\n",
    "\n",
    "# concatenate our training data back together\n",
    "X = pd.concat([X_train, y_train], axis=1)\n",
    "\n",
    "# separate minority and majority classes\n",
    "type1 = X[X['class'] == 0]\n",
    "type2 = X[X['class'] == 1]\n"
   ]
  },
  {
   "cell_type": "code",
   "execution_count": 13,
   "metadata": {},
   "outputs": [
    {
     "name": "stdout",
     "output_type": "stream",
     "text": [
      "**** Upsampling ****\n",
      "Malignant in test set : 0.62\n",
      "Predicted malignant : 0.54\n",
      "Upsampling Accuracy hold-out: 0.92\n",
      "Confusion matrix, without normalization\n",
      "[[14  2]\n",
      " [ 0 10]]\n"
     ]
    },
    {
     "data": {
      "text/plain": [
       "<matplotlib.axes._subplots.AxesSubplot at 0x1240be748>"
      ]
     },
     "execution_count": 13,
     "metadata": {},
     "output_type": "execute_result"
    },
    {
     "data": {
      "image/png": "[encoded data removed]",
      "text/plain": [
       "<Figure size 432x288 with 2 Axes>"
      ]
     },
     "metadata": {
      "needs_background": "light"
     },
     "output_type": "display_data"
    }
   ],
   "source": [
    "print('**** Upsampling ****')\n",
    "# upsample minority\n",
    "type1_upsampled = resample(type1,\n",
    "                          replace=True, # sample with replacement\n",
    "                          n_samples=len(type2), # match number in majority class\n",
    "                          random_state=27) # reproducible results\n",
    "# combine majority and upsampled minority\n",
    "upsampled = pd.concat([type2, type1_upsampled])\n",
    "\n",
    "\n",
    "y_train = upsampled['class']\n",
    "X_train = upsampled.drop('class', axis=1)\n",
    "\n",
    "\n",
    "y_pred_knn = kNN.fit(X_train, y_train).predict(X_test)\n",
    "\n",
    "print(\"Malignant in test set : %0.2f\" % (1- (y_test.sum()/len(y_test))))\n",
    "print(\"Predicted malignant : %0.2f\" % (1- (y_pred_knn.sum()/len(y_pred_knn))))\n",
    "\n",
    "acc = accuracy_score(y_test, y_pred_knn)\n",
    "print(\"Upsampling Accuracy hold-out: {:.2f}\".format(acc)) \n",
    "\n",
    "plot_confusion_matrix(y_test, y_pred_knn, classes=['Not Helpful','Helpful'],\n",
    "                      title='Confusion matrix, without normalization')\n"
   ]
  },
  {
   "cell_type": "code",
   "execution_count": 14,
   "metadata": {},
   "outputs": [
    {
     "name": "stdout",
     "output_type": "stream",
     "text": [
      "**** Downsampling ****\n",
      "Malignant in test set : 0.62\n",
      "Predicted malignant : 0.62\n",
      "Upsampling Accuracy hold-out: 1.00\n",
      "Confusion matrix, without normalization\n",
      "[[16  0]\n",
      " [ 0 10]]\n"
     ]
    },
    {
     "data": {
      "text/plain": [
       "<matplotlib.axes._subplots.AxesSubplot at 0x12461b0f0>"
      ]
     },
     "execution_count": 14,
     "metadata": {},
     "output_type": "execute_result"
    },
    {
     "data": {
      "image/png": "[encoded data removed]",
      "text/plain": [
       "<Figure size 432x288 with 2 Axes>"
      ]
     },
     "metadata": {
      "needs_background": "light"
     },
     "output_type": "display_data"
    }
   ],
   "source": [
    "print('**** Downsampling ****')\n",
    "#downsample majority\n",
    "type2_downsampled = resample(type2,\n",
    "                          replace=True, # sample with replacement\n",
    "                          n_samples=len(type1), # match number in majority class\n",
    "                          random_state=27) # reproducible results\n",
    "# combine majority and upsampled minority\n",
    "downsampled = pd.concat([type1, type2_downsampled])\n",
    "\n",
    "\n",
    "y_train = downsampled['class']\n",
    "X_train = downsampled.drop('class', axis=1)\n",
    "\n",
    "\n",
    "y_pred_knn = kNN.fit(X_train, y_train).predict(X_test)\n",
    "\n",
    "print(\"Malignant in test set : %0.2f\" % (1- (y_test.sum()/len(y_test))))\n",
    "print(\"Predicted malignant : %0.2f\" % (1- (y_pred_knn.sum()/len(y_pred_knn))))\n",
    "\n",
    "acc = accuracy_score(y_test, y_pred_knn)\n",
    "print(\"Upsampling Accuracy hold-out: {:.2f}\".format(acc)) \n",
    "\n",
    "plot_confusion_matrix(y_test, y_pred_knn, classes=['Not Helpful','Helpful'],\n",
    "                      title='Confusion matrix, without normalization')\n"
   ]
  },
  {
   "cell_type": "markdown",
   "metadata": {},
   "source": [
    "#### The accuracy on testing with imbalanced dataset is 85%.\n",
    "\n",
    "#### We are handling this imbalance with upsampling and downsampling. The accuracy of the model after upsampling is 92%. Moreover, it is interesting to note that the accuarcy shoots to 100% with downsampling.\n",
    "\n",
    "#### However, it is not always the case because downsampling leads to removal of useful information which can effect the accuracy."
   ]
  }
 ],
 "metadata": {
  "kernelspec": {
   "display_name": "Python 3",
   "language": "python",
   "name": "python3"
  },
  "language_info": {
   "codemirror_mode": {
    "name": "ipython",
    "version": 3
   },
   "file_extension": ".py",
   "mimetype": "text/x-python",
   "name": "python",
   "nbconvert_exporter": "python",
   "pygments_lexer": "ipython3",
   "version": "3.7.3"
  }
 },
 "nbformat": 4,
 "nbformat_minor": 2
}
